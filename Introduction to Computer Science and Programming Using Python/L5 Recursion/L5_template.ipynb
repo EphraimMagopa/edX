{
 "cells": [
  {
   "cell_type": "markdown",
   "metadata": {},
   "source": [
    "#Introduction to Computer Science and Programming Using Python"
   ]
  },
  {
   "cell_type": "markdown",
   "metadata": {},
   "source": [
    "##Recursion"
   ]
  },
  {
   "cell_type": "markdown",
   "metadata": {},
   "source": [
    "###Problem 1"
   ]
  },
  {
   "cell_type": "markdown",
   "metadata": {},
   "source": [
    "Write an iterative function iterPower(base, exp) that calculates the exponential baseexp by simply using successive multiplication. For example, iterPower(base, exp) should compute baseexp by multiplying base times itself exp times. Write such a function below.\n",
    "\n",
    "This function should take in two values - base can be a float or an integer; exp will be an integer ≥ 0. It should return one numerical value. Your code must be iterative - use of the ** operator is not allowed. "
   ]
  },
  {
   "cell_type": "code",
   "execution_count": 1,
   "metadata": {
    "collapsed": true
   },
   "outputs": [],
   "source": [
    "def iterPower(base, exp):\n",
    "    '''\n",
    "    base: int or float.\n",
    "    exp: int >= 0\n",
    "\n",
    "    returns: int or float, base^exp\n",
    "    '''\n",
    "    result = 1\n",
    "    while exp > 0:\n",
    "        result *=base\n",
    "        exp -= 1\n",
    "    return result"
   ]
  },
  {
   "cell_type": "markdown",
   "metadata": {},
   "source": [
    "###Problem 2"
   ]
  },
  {
   "cell_type": "markdown",
   "metadata": {},
   "source": [
    "Write a function recurPower(base, exp) which computes baseexp by recursively calling itself to solve a smaller version of the same problem, and then multiplying the result by base to solve the initial problem.\n",
    "\n",
    "This function should take in two values - base can be a float or an integer; exp will be an integer ≥0. It should return one numerical value. Your code must be recursive - use of the ** operator or looping constructs is not allowed. "
   ]
  },
  {
   "cell_type": "code",
   "execution_count": 2,
   "metadata": {
    "collapsed": true
   },
   "outputs": [],
   "source": [
    "def recurPower(base, exp):\n",
    "    '''\n",
    "    base: int or float.\n",
    "    exp: int >= 0\n",
    "\n",
    "    returns: int or float, base^exp\n",
    "    '''\n",
    "    if exp <= 0:\n",
    "        return 1\n",
    "\n",
    "    return base * recurPower(base, exp - 1)"
   ]
  },
  {
   "cell_type": "markdown",
   "metadata": {},
   "source": [
    "###Problem 3"
   ]
  },
  {
   "cell_type": "markdown",
   "metadata": {},
   "source": [
    "Write a procedure recurPowerNew which recursively computes exponentials using the idea:\n",
    "\n",
    "- base^exp = (base^2)^exp/2, if exp>0 and exp is even\n",
    "- base^exp = base . base^exp-1, if exp>0 and exp is odd\n",
    "- base^exp = 1, if exp = 0"
   ]
  },
  {
   "cell_type": "code",
   "execution_count": 3,
   "metadata": {
    "collapsed": true
   },
   "outputs": [],
   "source": [
    "def recurPowerNew(base, exp):\n",
    "    '''\n",
    "    base: int or float.\n",
    "    exp: int >= 0\n",
    "\n",
    "    returns: int or float; base^exp\n",
    "    '''\n",
    "    if exp <= 0:\n",
    "        return 1\n",
    "    \n",
    "    elif exp % 2 == 0:\n",
    "        return recurPowerNew(base*base, exp/2)"
   ]
  },
  {
   "cell_type": "markdown",
   "metadata": {},
   "source": [
    "###Problem 4"
   ]
  },
  {
   "cell_type": "markdown",
   "metadata": {},
   "source": [
    "The greatest common divisor of two positive integers is the largest integer that divides each of them without remainder.\n",
    "\n",
    "Write an iterative function, gcdIter(a, b), that implements this idea. One easy way to do this is to begin with a test value equal to the smaller of the two input arguments, and iteratively reduce this test value by 1 until you either reach a case where the test divides both a and b without remainder, or you reach 1."
   ]
  },
  {
   "cell_type": "code",
   "execution_count": 4,
   "metadata": {
    "collapsed": true
   },
   "outputs": [],
   "source": [
    "def gcdIter(a, b):\n",
    "    '''\n",
    "    a, b: positive integers\n",
    "    \n",
    "    returns: a positive integer, the greatest common divisor of a & b.\n",
    "    '''\n",
    "    testValue = min(a, b)\n",
    "    while a % testValue != 0 or b % testValue != 0:\n",
    "        testValue -= 1\n",
    "    \n",
    "    return testValue"
   ]
  },
  {
   "cell_type": "markdown",
   "metadata": {},
   "source": [
    "###Problem 5"
   ]
  },
  {
   "cell_type": "markdown",
   "metadata": {},
   "source": [
    "A clever mathematical trick (due to Euclid) makes it easy to find greatest common divisors. Suppose that a and b are two positive integers: \n",
    "\n",
    "- If b = 0, then the answer is a \n",
    "- Otherwise, gcd(a, b) is the same as gcd(b, a % b) \n",
    "\n",
    "Write a function gcdRecur(a, b) that implements this idea recursively. This function takes in two positive integers and returns one integer. "
   ]
  },
  {
   "cell_type": "code",
   "execution_count": 5,
   "metadata": {
    "collapsed": true
   },
   "outputs": [],
   "source": [
    "def gcdRecur(a, b):\n",
    "    '''\n",
    "    a, b: positive integers\n",
    "    \n",
    "    returns: a positive integer, the greatest common divisor of a & b.\n",
    "    '''\n",
    "    if b == 0:\n",
    "        return a\n",
    "    \n",
    "    return gcdRecur(b, a % b)"
   ]
  },
  {
   "cell_type": "markdown",
   "metadata": {},
   "source": [
    "###Problem 6"
   ]
  },
  {
   "cell_type": "markdown",
   "metadata": {},
   "source": [
    "Although Python provides a built-in function for computing the length of a string, we can write our own.\n",
    "\n",
    "Write an iterative function, lenIter, which computes the length of an input argument (a string), by counting up the number of characters in the string."
   ]
  },
  {
   "cell_type": "code",
   "execution_count": 6,
   "metadata": {
    "collapsed": true
   },
   "outputs": [],
   "source": [
    "def lenIter(aStr):\n",
    "    '''\n",
    "    aStr: a string\n",
    "    \n",
    "    returns: int, the length of aStr\n",
    "    '''\n",
    "    count = 0\n",
    "    for char in aStr:\n",
    "        count += 1\n",
    "    \n",
    "    return count"
   ]
  },
  {
   "cell_type": "markdown",
   "metadata": {},
   "source": [
    "###Problem 7"
   ]
  },
  {
   "cell_type": "markdown",
   "metadata": {},
   "source": [
    "Write a recursive function, lenRecur, which computes the length of an input argument (a string), by counting up the number of characters in the string. "
   ]
  },
  {
   "cell_type": "code",
   "execution_count": 7,
   "metadata": {
    "collapsed": true
   },
   "outputs": [],
   "source": [
    "def lenRecur(aStr):\n",
    "    '''\n",
    "    aStr: a string\n",
    "    \n",
    "    returns: int, the length of aStr\n",
    "    '''\n",
    "    if aStr == '':\n",
    "        return 0\n",
    "\n",
    "    return 1 + lenRecur(aStr[1:])"
   ]
  },
  {
   "cell_type": "markdown",
   "metadata": {},
   "source": [
    "###Problem 8"
   ]
  },
  {
   "cell_type": "markdown",
   "metadata": {},
   "source": [
    "We can use the idea of bisection search to determine if a character is in a string, so long as the string is sorted in alphabetical order. \n",
    "\n",
    "Implement the function isIn(char, aStr) which implements the above idea recursively to test if char is in aStr. char will be a single character and aStr will be a string that is in alphabetical order. The function should return a boolean value. "
   ]
  },
  {
   "cell_type": "code",
   "execution_count": 8,
   "metadata": {
    "collapsed": true
   },
   "outputs": [],
   "source": [
    "def isIn(char, aStr):\n",
    "    '''\n",
    "    char: a single character\n",
    "    aStr: an alphabetized string\n",
    "   \n",
    "    returns: True if char is in aStr; False otherwise\n",
    "    '''\n",
    "    if aStr == '':\n",
    "        return False\n",
    "   \n",
    "    if len(aStr) == 1:\n",
    "        return aStr == char\n",
    "   \n",
    "    midIndex = len(aStr)/2\n",
    "    midChar = aStr[midIndex]\n",
    "    if char == midChar:\n",
    "        return True\n",
    "    elif char < midChar:\n",
    "        return isIn(char, aStr[:midIndex])\n",
    "    else:\n",
    "        return isIn(char, aStr[midIndex+1:])"
   ]
  },
  {
   "cell_type": "markdown",
   "metadata": {},
   "source": [
    "###Problem 9"
   ]
  },
  {
   "cell_type": "markdown",
   "metadata": {},
   "source": [
    "A semordnilap is a word or a phrase that spells a different word when backwards (\"semordnilap\" is a semordnilap of \"palindromes\"). Here are some examples:\n",
    "\n",
    "- nametag / gateman\n",
    "- dog / god\n",
    "- live / evil\n",
    "- desserts / stressed\n",
    "\n",
    "Write a recursive program, semordnilap, that takes in two words and says if they are semordnilap."
   ]
  },
  {
   "cell_type": "code",
   "execution_count": 9,
   "metadata": {
    "collapsed": true
   },
   "outputs": [],
   "source": [
    "def semordnilapWrapper(str1, str2):\n",
    "    if len(str1) == 1 or len(str2) == 1:\n",
    "        return False\n",
    "\n",
    "    if str1 == str2:\n",
    "        return False\n",
    "\n",
    "    return semordnilap(str1, str2)\n",
    "\n",
    "def semordnilap(str1, str2):\n",
    "    '''\n",
    "    str1: a string\n",
    "    str2: a string\n",
    "    \n",
    "    returns: True if str1 and str2 are semordnilap;\n",
    "             False otherwise.\n",
    "    '''\n",
    "    if len(str1) != len(str2):\n",
    "        return False\n",
    "\n",
    "    if len(str1) == 1:\n",
    "        return str1 == str2\n",
    "\n",
    "    if str1[0] == str2[-1]:\n",
    "        return semordnilap(str1[1:], str2[:-1])\n",
    "    else:\n",
    "        return False"
   ]
  }
 ],
 "metadata": {
  "kernelspec": {
   "display_name": "Python 2",
   "language": "python",
   "name": "python2"
  },
  "language_info": {
   "codemirror_mode": {
    "name": "ipython",
    "version": 2
   },
   "file_extension": ".py",
   "mimetype": "text/x-python",
   "name": "python",
   "nbconvert_exporter": "python",
   "pygments_lexer": "ipython2",
   "version": "2.7.10"
  }
 },
 "nbformat": 4,
 "nbformat_minor": 0
}
